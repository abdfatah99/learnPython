{
  "nbformat": 4,
  "nbformat_minor": 0,
  "metadata": {
    "orig_nbformat": 2,
    "kernelspec": {
      "name": "python3",
      "display_name": "Python 3"
    },
    "colab": {
      "name": "10_Operasi_komparasi.ipynb",
      "provenance": [],
      "include_colab_link": true
    }
  },
  "cells": [
    {
      "cell_type": "markdown",
      "metadata": {
        "id": "view-in-github",
        "colab_type": "text"
      },
      "source": [
        "<a href=\"https://colab.research.google.com/github/abdulfatahhamidah/learnPython/blob/master/10_Operasi_komparasi.ipynb\" target=\"_parent\"><img src=\"https://colab.research.google.com/assets/colab-badge.svg\" alt=\"Open In Colab\"/></a>"
      ]
    },
    {
      "cell_type": "markdown",
      "metadata": {
        "id": "BgkTEW3Ro6Y5"
      },
      "source": [
        "# Operasi Komparasi"
      ]
    },
    {
      "cell_type": "markdown",
      "metadata": {
        "id": "K14zzfbxo6Y_"
      },
      "source": [
        "Setiap hasil dari operasi komparasi adalah boolean. <br> \n",
        "Operasi komparasi antara lain:\n",
        "+ lebih dari, >\n",
        "+ kurang dari, < \n",
        "+ lebih besar sama dengan, >=\n",
        "+ kurang dari sama degan, <=\n",
        "+ sama dengan, == \n",
        "+ tidak sama dengan, !=\n",
        "+ is \n",
        "+ is not \n"
      ]
    },
    {
      "cell_type": "code",
      "metadata": {
        "id": "KYrpHZHwo6ZC"
      },
      "source": [
        "a = 4\n",
        "b = 2"
      ],
      "execution_count": 13,
      "outputs": []
    },
    {
      "cell_type": "markdown",
      "metadata": {
        "id": "ouLgIUK0o6ZR"
      },
      "source": [
        "Lebih dari, > \n",
        "+ x > 3, maka semua bilangan x yang memenuhi adalah bilangan yang lebih besar dari 3. 3 tidak termasuk bilangan tersebut\n",
        "+ x = 3, Output = False\n"
      ]
    },
    {
      "cell_type": "code",
      "metadata": {
        "id": "5ZfXOLu4o6ZT",
        "outputId": "7f3f78b1-bf85-4c44-d6d1-7db8600fbeef",
        "colab": {
          "base_uri": "https://localhost:8080/",
          "height": 68
        }
      },
      "source": [
        "hasil = a > 3\n",
        "print(a, '>', 3, '=', hasil)\n",
        "\n",
        "hasil = b > 3\n",
        "print(b, '>', 3, '=', hasil)\n",
        "\n",
        "hasil = b > 2\n",
        "print(b, '>', 2, '=', hasil)"
      ],
      "execution_count": 14,
      "outputs": [
        {
          "output_type": "stream",
          "text": [
            "4 > 3 = True\n",
            "2 > 3 = False\n",
            "2 > 2 = False\n"
          ],
          "name": "stdout"
        }
      ]
    },
    {
      "cell_type": "markdown",
      "metadata": {
        "id": "WLFftGpzo6Zl"
      },
      "source": [
        "kurang dari, <\n",
        "+ x < 3, maka semua bilangan x yang memenuhi adalah bilangan yang kurang dari 3. 3 tidak termasuk bilangan tersebut\n",
        "+ x = 3, Output = False"
      ]
    },
    {
      "cell_type": "code",
      "metadata": {
        "id": "tOjEq9tDo6Zn",
        "outputId": "976a7cc3-27f7-4198-c292-d69e691fdf9d",
        "colab": {
          "base_uri": "https://localhost:8080/",
          "height": 68
        }
      },
      "source": [
        "hasil = a < 3\n",
        "print(a, '<', 3, '=', hasil)\n",
        "\n",
        "hasil = b < 3\n",
        "print(b, '<', 3, '=', hasil)\n",
        "\n",
        "hasil = b < 2\n",
        "print(b, '<', 2, '=', hasil)"
      ],
      "execution_count": 15,
      "outputs": [
        {
          "output_type": "stream",
          "text": [
            "4 < 3 = False\n",
            "2 < 3 = True\n",
            "2 < 2 = False\n"
          ],
          "name": "stdout"
        }
      ]
    },
    {
      "cell_type": "markdown",
      "metadata": {
        "id": "fmWUYY3Qo6Zz"
      },
      "source": [
        "lebih besar dari sama dengan, >= \n",
        "+ x >=, maka semua bilangan x yang memenuhi adalah bilangan yang lebih besar sama dengan 3. 3 termasuk bilangan tersebut\n",
        "+ x = 3, Output = True"
      ]
    },
    {
      "cell_type": "code",
      "metadata": {
        "id": "80AAvML0o6Z1",
        "outputId": "1c641944-82e9-41b4-ca16-d34cf5ee14e5",
        "colab": {
          "base_uri": "https://localhost:8080/",
          "height": 68
        }
      },
      "source": [
        "hasil = a >= 3\n",
        "print(a, '>=', 3, '=', hasil)\n",
        "\n",
        "hasil = b >= 3\n",
        "print(b, '>=', 3, '=', hasil)\n",
        "\n",
        "hasil = b >= 2\n",
        "print(b, '>=', 2, '=', hasil)"
      ],
      "execution_count": 16,
      "outputs": [
        {
          "output_type": "stream",
          "text": [
            "4 >= 3 = True\n",
            "2 >= 3 = False\n",
            "2 >= 2 = True\n"
          ],
          "name": "stdout"
        }
      ]
    },
    {
      "cell_type": "markdown",
      "metadata": {
        "id": "QKUM5lwTo6aC"
      },
      "source": [
        "kurang dari sama dengan, >= \n",
        "+ x >=, maka semua bilangan x yang memenuhi adalah bilangan yang kurang dari sama dengan 3. 3 termasuk bilangan tersebut\n",
        "+ x = 3, Output = True"
      ]
    },
    {
      "cell_type": "code",
      "metadata": {
        "id": "qYJje1eJo6aE",
        "outputId": "da6b7b37-1281-4ed1-a578-77658f7ad790",
        "colab": {
          "base_uri": "https://localhost:8080/",
          "height": 68
        }
      },
      "source": [
        "hasil = a <= 3\n",
        "print(a, '<=', 3, '=', hasil)\n",
        "\n",
        "hasil = b <= 3\n",
        "print(b, '<=', 3, '=', hasil)\n",
        "\n",
        "hasil = b <= 2\n",
        "print(b, '<=', 2, '=', hasil)"
      ],
      "execution_count": 17,
      "outputs": [
        {
          "output_type": "stream",
          "text": [
            "4 <= 3 = False\n",
            "2 <= 3 = True\n",
            "2 <= 2 = True\n"
          ],
          "name": "stdout"
        }
      ]
    },
    {
      "cell_type": "markdown",
      "metadata": {
        "id": "hV9u6Cteo6aQ"
      },
      "source": [
        "Sama dengan, ==\n",
        "+ melakukan pengecekan kebenaran terhadap literal (nilai yang tidak memiliki variable), variable, object dll\n"
      ]
    },
    {
      "cell_type": "code",
      "metadata": {
        "id": "k638GQxOo6aS",
        "outputId": "23f11566-954f-4efe-83e8-5e2822d9b4b7",
        "colab": {
          "base_uri": "https://localhost:8080/",
          "height": 34
        }
      },
      "source": [
        "hasil = a == 4\n",
        "print (a, '==', 4, hasil)"
      ],
      "execution_count": 18,
      "outputs": [
        {
          "output_type": "stream",
          "text": [
            "4 == 4 True\n"
          ],
          "name": "stdout"
        }
      ]
    },
    {
      "cell_type": "markdown",
      "metadata": {
        "id": "hozjEzrao6ah"
      },
      "source": [
        "Tidak sama dengan, !=\n",
        "+ melakukan pengecekan kesalahan terhadap literal (nilai yang tidak memiliki variable), variable, object dll\n",
        "+ apabila nilai salah (tidak sesuai dengan fakta), maka True\n",
        "+ apabila nilai benar (sesuai dengan fakta), maka False \n"
      ]
    },
    {
      "cell_type": "code",
      "metadata": {
        "id": "WLXGT5iuo6aj",
        "outputId": "84683731-914b-4800-fbef-51f0c7cb16f4",
        "colab": {
          "base_uri": "https://localhost:8080/",
          "height": 85
        }
      },
      "source": [
        "fakta = a\n",
        "print(\"fakta a =\", fakta)\n",
        "fakta = b\n",
        "print(\"fakta b =\", fakta)\n",
        "\n",
        "hasil = a != 4\n",
        "print(a, '!=', 4, hasil) \n",
        "\n",
        "hasil = b != 4\n",
        "print(b, '!=', 4, hasil)\n"
      ],
      "execution_count": 19,
      "outputs": [
        {
          "output_type": "stream",
          "text": [
            "fakta a = 4\n",
            "fakta b = 2\n",
            "4 != 4 False\n",
            "2 != 4 True\n"
          ],
          "name": "stdout"
        }
      ]
    },
    {
      "cell_type": "markdown",
      "metadata": {
        "id": "RcLw0uqOo6au"
      },
      "source": [
        "# materi yang perlu pemahaman lebih \n",
        "+ is \n",
        "+ is not\n"
      ]
    },
    {
      "cell_type": "markdown",
      "metadata": {
        "id": "TYbHL4Wfo6aw"
      },
      "source": [
        "'is' sebagai komparasi object identity\n"
      ]
    },
    {
      "cell_type": "code",
      "metadata": {
        "id": "7LSrIXwho6ay",
        "outputId": "77fd7a71-e13b-4585-f842-9a65b90e2a52",
        "colab": {
          "base_uri": "https://localhost:8080/",
          "height": 51
        }
      },
      "source": [
        "x = 5  # ini adalah assignment membuat object\n",
        "y = 5\n",
        "print('nilai x =', x, ',id =', hex(id(x)))\n",
        "print('nilai y =', y, ',id =', hex(id(y)))"
      ],
      "execution_count": 20,
      "outputs": [
        {
          "output_type": "stream",
          "text": [
            "nilai x = 5 ,id = 0xa68b40\n",
            "nilai y = 5 ,id = 0xa68b40\n"
          ],
          "name": "stdout"
        }
      ]
    },
    {
      "cell_type": "markdown",
      "metadata": {
        "id": "S_VbXFL9o6a-"
      },
      "source": [
        "Penjelasan kode pada kolom di atas<br>\n",
        "\"Apabila terdapat nilai yang sama, python secara pintar akan menempatkan pada memori yang sama. jadi hal ini akan mengakibatkan efisiensi yang lebih baik. berbeda dengan bahasa lain yang menempatkan ke nilai memori yang berbeda meskipun nilainya sama.\"\n",
        "\n",
        "sekarang kira akan membandingkan antara x dan y"
      ]
    },
    {
      "cell_type": "code",
      "metadata": {
        "id": "SasQMVclo6bA",
        "outputId": "a66c2827-d5bd-4b68-f554-64b976936f5c",
        "colab": {
          "base_uri": "https://localhost:8080/",
          "height": 34
        }
      },
      "source": [
        "hasil = x is y\n",
        "print('x is y =', hasil)"
      ],
      "execution_count": 21,
      "outputs": [
        {
          "output_type": "stream",
          "text": [
            "x is y = True\n"
          ],
          "name": "stdout"
        }
      ]
    },
    {
      "cell_type": "markdown",
      "metadata": {
        "id": "RigzaqYso6bK"
      },
      "source": [
        "Apabila kita merubah nilai y menjadi 6, maka hasilnya adalah False karena kedua nilai/variable berbeda."
      ]
    },
    {
      "cell_type": "code",
      "metadata": {
        "id": "1dczJVqao6bM",
        "outputId": "f9a574ab-5322-4074-a5ca-c9e1fe1ceef5",
        "colab": {
          "base_uri": "https://localhost:8080/",
          "height": 68
        }
      },
      "source": [
        "\n",
        "x = 5 \n",
        "y = 6\n",
        "print('nilai x =', x, ',id =', hex(id(x)))\n",
        "print('nilai y =', y, ',id =', hex(id(y)))\n",
        "hasil = x is y\n",
        "print('x is y =', hasil)"
      ],
      "execution_count": 22,
      "outputs": [
        {
          "output_type": "stream",
          "text": [
            "nilai x = 5 ,id = 0xa68b40\n",
            "nilai y = 6 ,id = 0xa68b60\n",
            "x is y = False\n"
          ],
          "name": "stdout"
        }
      ]
    },
    {
      "cell_type": "markdown",
      "metadata": {
        "id": "91F3S9Fno6bX"
      },
      "source": [
        "'is not' sebagai komparasi (negasi) object identity\n"
      ]
    },
    {
      "cell_type": "code",
      "metadata": {
        "id": "XfLCmH9to6bY",
        "outputId": "7708dbbb-0c82-465f-9937-30fcdfc2b17d",
        "colab": {
          "base_uri": "https://localhost:8080/",
          "height": 68
        }
      },
      "source": [
        "x = 5 \n",
        "y = 5\n",
        "print('nilai x =', x, ',id =', hex(id(x)))\n",
        "print('nilai y =', y, ',id =', hex(id(y)))\n",
        "\n",
        "hasil = x is not y\n",
        "print('x is not y =', hasil)"
      ],
      "execution_count": 23,
      "outputs": [
        {
          "output_type": "stream",
          "text": [
            "nilai x = 5 ,id = 0xa68b40\n",
            "nilai y = 5 ,id = 0xa68b40\n",
            "x is not y = False\n"
          ],
          "name": "stdout"
        }
      ]
    },
    {
      "cell_type": "markdown",
      "metadata": {
        "id": "EjsLoPLso6bx"
      },
      "source": [
        "Apabila kita merubah nilai y menjadi 6, maka hasilnya adalah True karena kedua nilai/variable berbeda."
      ]
    },
    {
      "cell_type": "code",
      "metadata": {
        "id": "D2XYuRfyo6b0",
        "outputId": "0d2c3281-a503-400d-ff5c-372fb5e54baf",
        "colab": {
          "base_uri": "https://localhost:8080/",
          "height": 68
        }
      },
      "source": [
        "x = 5  \n",
        "y = 6\n",
        "print('nilai x =', x, ',id =', hex(id(x)))\n",
        "print('nilai y =', y, ',id =', hex(id(y)))\n",
        "hasil = x is not y\n",
        "print('x is not y =', hasil)"
      ],
      "execution_count": 24,
      "outputs": [
        {
          "output_type": "stream",
          "text": [
            "nilai x = 5 ,id = 0xa68b40\n",
            "nilai y = 6 ,id = 0xa68b60\n",
            "x is not y = True\n"
          ],
          "name": "stdout"
        }
      ]
    }
  ]
}