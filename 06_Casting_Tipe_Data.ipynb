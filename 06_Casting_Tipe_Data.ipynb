{
  "nbformat": 4,
  "nbformat_minor": 0,
  "metadata": {
    "kernelspec": {
      "display_name": "Python 3",
      "language": "python",
      "name": "python3"
    },
    "language_info": {
      "codemirror_mode": {
        "name": "ipython",
        "version": 3
      },
      "file_extension": ".py",
      "mimetype": "text/x-python",
      "name": "python",
      "nbconvert_exporter": "python",
      "pygments_lexer": "ipython3",
      "version": "3.8.3"
    },
    "colab": {
      "name": "06 - Casting Tipe Data.ipynb",
      "provenance": [],
      "include_colab_link": true
    }
  },
  "cells": [
    {
      "cell_type": "markdown",
      "metadata": {
        "id": "view-in-github",
        "colab_type": "text"
      },
      "source": [
        "<a href=\"https://colab.research.google.com/github/abdulfatahhamidah/learnPython/blob/master/06_Casting_Tipe_Data.ipynb\" target=\"_parent\"><img src=\"https://colab.research.google.com/assets/colab-badge.svg\" alt=\"Open In Colab\"/></a>"
      ]
    },
    {
      "cell_type": "markdown",
      "metadata": {
        "id": "wM9lCaCdthHB"
      },
      "source": [
        "# Casting Tipe Data \n",
        "- merubah dari satu tipe data ke tipe data yang lain\n",
        "- tipe data = int, float, str, bool"
      ]
    },
    {
      "cell_type": "markdown",
      "metadata": {
        "id": "7kjO11xBthHH"
      },
      "source": [
        "Integer -> float, string, boolean\n",
        "+ apabila data bertipe boolean memiliki nilai 0 (nol) maka secara otomatis akan menghasilkan value false\n",
        "+ \\t berfungsi untuk tab pada output "
      ]
    },
    {
      "cell_type": "code",
      "metadata": {
        "id": "3Qk-FSecthHK",
        "outputId": "bb7d334f-18b9-42f5-aea2-94e395ad5a5d"
      },
      "source": [
        "data_int = 9\n",
        "print(\"data awal(int)=\", data_int, \"\\t\", \"type data =\", type(data_int))\n",
        "\n",
        "data_float = float(data_int)\n",
        "data_str   = str(data_int)\n",
        "data_bool  = bool(data_int) # akan false jika bernilai 0 (nol)\n",
        "print(\"data float    =\", data_float, \"\\t\", \"type data =\", type(data_float))\n",
        "print(\"data string   =\", data_str, \"\\t\", \"type data =\", type(data_str))\n",
        "print(\"data boolean  =\", data_bool, \"\\t\", \"type data =\", type(data_bool))"
      ],
      "execution_count": null,
      "outputs": [
        {
          "output_type": "stream",
          "text": [
            "data awal(int)= 9 \t type data = <class 'int'>\n",
            "data float    = 9.0 \t type data = <class 'float'>\n",
            "data string   = 9 \t type data = <class 'str'>\n",
            "data boolean  = True \t type data = <class 'bool'>\n"
          ],
          "name": "stdout"
        }
      ]
    },
    {
      "cell_type": "markdown",
      "metadata": {
        "id": "nOtFhkITthHf"
      },
      "source": [
        "Float -> int, string, boolean\n",
        "+ float -> int, terjadi pembulatan ke bawah meskipun melebihi 0.5"
      ]
    },
    {
      "cell_type": "code",
      "metadata": {
        "scrolled": false,
        "id": "UeU8epHAthHi",
        "outputId": "ebad0961-95f3-4ff4-8842-f0db9b0f73a3"
      },
      "source": [
        "#Float\n",
        "print(\"===Float===\")\n",
        "data_float = 9.9\n",
        "print(\"data awal =\", data_float, \" type data =\", type(data_float))\n",
        "\n",
        "data_int = int(data_float) \n",
        "data_str   = str(data_float)\n",
        "data_bool  = bool(data_float) # akan false jika bernilai 0 (nol)\n",
        "print(\"data =\", data_int, \"\\t\", \"type data =\", type(data_int))\n",
        "print(\"data =\", data_str, \"\\t\", \"type data =\", type(data_str))\n",
        "print(\"data =\", data_bool, \"\\t\", \"type data =\", type(data_bool))"
      ],
      "execution_count": null,
      "outputs": [
        {
          "output_type": "stream",
          "text": [
            "===Float===\n",
            "data awal = 9.9  type data = <class 'float'>\n",
            "data = 9 \t type data = <class 'int'>\n",
            "data = 9.9 \t type data = <class 'str'>\n",
            "data = True \t type data = <class 'bool'>\n"
          ],
          "name": "stdout"
        }
      ]
    },
    {
      "cell_type": "markdown",
      "metadata": {
        "id": "Kpni00mmthH1"
      },
      "source": [
        "Boolean -> int, str, float\n",
        "+ boolean -> int, apabila true = 1, false = 0"
      ]
    },
    {
      "cell_type": "code",
      "metadata": {
        "scrolled": true,
        "id": "0S6hhLCRthH3",
        "outputId": "14119556-aa59-4fb0-aa0c-f3898cba4089"
      },
      "source": [
        "#boolean\n",
        "data_bool1 = True\n",
        "data_bool2 = False\n",
        "print(\"data awal1 =\", data_bool1, \"\\ttype data1=\", type(data_bool1))\n",
        "print(\"data awal2 =\", data_bool2, \"\\ttype data2 =\", type(data_bool2),\"\\n\")\n",
        "\n",
        "data_int1 = int(data_bool1) \n",
        "data_int2 = int(data_bool2) \n",
        "\n",
        "data_str1  = str(data_bool1)\n",
        "data_str2  = str(data_bool2)\n",
        "\n",
        "data_float1 = float(data_bool1) \n",
        "data_float2 = float(data_bool2)\n",
        "\n",
        "print(\"data int1 (True)   =\", data_int1, \"\\ttype =\", type(data_int1))\n",
        "print(\"data int2 (False)  =\", data_int2, \"\\ttype =\", type(data_int2),\"\\n\")\n",
        "\n",
        "print(\"data str1 (True)   =\", data_str1, \"\\ttype =\", type(data_str1))\n",
        "print(\"data str2 (False)  =\", data_str2, \"\\ttype =\", type(data_str2),\"\\n\")\n",
        "\n",
        "print(\"data float1 (Talse)=\", data_float1, \"\\ttype =\", type(data_float1))\n",
        "print(\"data float2 (False)=\", data_float2, \"\\ttype =\", type(data_float2))"
      ],
      "execution_count": null,
      "outputs": [
        {
          "output_type": "stream",
          "text": [
            "data awal1 = True \ttype data1= <class 'bool'>\n",
            "data awal2 = False \ttype data2 = <class 'bool'> \n",
            "\n",
            "data int1 (True)   = 1 \ttype = <class 'int'>\n",
            "data int2 (False)  = 0 \ttype = <class 'int'> \n",
            "\n",
            "data str1 (True)   = True \ttype = <class 'str'>\n",
            "data str2 (False)  = False \ttype = <class 'str'> \n",
            "\n",
            "data float1 (Talse)= 1.0 \ttype = <class 'float'>\n",
            "data float2 (False)= 0.0 \ttype = <class 'float'>\n"
          ],
          "name": "stdout"
        }
      ]
    },
    {
      "cell_type": "markdown",
      "metadata": {
        "id": "AJhFFLxMthID"
      },
      "source": [
        "String -> int, bool, float\n",
        "+ kalimat -> int dan float, menghasilkan error.\n",
        "+ string berupa angka -> int dan float, bisa.\n",
        "+ string berupa kalimat -> boolean, True. meskipun isi dari stringnya adalah \"false\"\n",
        "+ string kosong -> boolean, False."
      ]
    },
    {
      "cell_type": "code",
      "metadata": {
        "id": "9YH8FRwGthIF",
        "outputId": "ba1b6f3d-7148-444a-e9d2-2cd20d86737b"
      },
      "source": [
        "data_awal = \"ucup\"\n",
        "data_int = int(data_awal)"
      ],
      "execution_count": null,
      "outputs": [
        {
          "output_type": "error",
          "ename": "ValueError",
          "evalue": "invalid literal for int() with base 10: 'ucup'",
          "traceback": [
            "\u001b[1;31m---------------------------------------------------------------------------\u001b[0m",
            "\u001b[1;31mValueError\u001b[0m                                Traceback (most recent call last)",
            "\u001b[1;32m<ipython-input-4-d933bdd8156e>\u001b[0m in \u001b[0;36m<module>\u001b[1;34m\u001b[0m\n\u001b[0;32m      1\u001b[0m \u001b[0mdata_awal\u001b[0m \u001b[1;33m=\u001b[0m \u001b[1;34m\"ucup\"\u001b[0m\u001b[1;33m\u001b[0m\u001b[1;33m\u001b[0m\u001b[0m\n\u001b[1;32m----> 2\u001b[1;33m \u001b[0mdata_int\u001b[0m \u001b[1;33m=\u001b[0m \u001b[0mint\u001b[0m\u001b[1;33m(\u001b[0m\u001b[0mdata_awal\u001b[0m\u001b[1;33m)\u001b[0m\u001b[1;33m\u001b[0m\u001b[1;33m\u001b[0m\u001b[0m\n\u001b[0m",
            "\u001b[1;31mValueError\u001b[0m: invalid literal for int() with base 10: 'ucup'"
          ]
        }
      ]
    },
    {
      "cell_type": "code",
      "metadata": {
        "scrolled": true,
        "id": "UV2HSm6rthIS",
        "outputId": "3853479c-bc31-4a07-ca61-cbc9ae47201a"
      },
      "source": [
        "data_awal = \"10\"\n",
        "data_int = int(data_awal)\n",
        "print(data_int)"
      ],
      "execution_count": null,
      "outputs": [
        {
          "output_type": "stream",
          "text": [
            "10\n"
          ],
          "name": "stdout"
        }
      ]
    },
    {
      "cell_type": "code",
      "metadata": {
        "id": "PbwyAWH8thIf",
        "outputId": "c3030d7a-ea81-41cb-f3a8-51e667440045"
      },
      "source": [
        "string_awal = \"False\"\n",
        "string_awal2 = \"10\"\n",
        "string_awal3 = \"0\"\n",
        "string_awal4 = \"\"\n",
        "\n",
        "print(\"string awal =\", string_awal)\n",
        "print(\"string awal2 =\", string_awal2)\n",
        "print(\"string awal3 =\", string_awal3)\n",
        "print(\"string awal4 =\", string_awal4)\n",
        "\n",
        "boolean1 = bool(string_awal)\n",
        "boolean2 = bool(string_awal2)\n",
        "boolean3 = bool(string_awal3)\n",
        "boolean4 = bool(string_awal4)\n",
        "\n",
        "print(\"\\ntipe data boolean1 =\", boolean1)\n",
        "print(\"tipe data boolean2 =\", boolean2)\n",
        "print(\"tipe data boolean3 =\", boolean3)\n",
        "print(\"tipe data boolean4 =\", boolean4)\n",
        "\n"
      ],
      "execution_count": null,
      "outputs": [
        {
          "output_type": "stream",
          "text": [
            "string awal = False\n",
            "string awal2 = 10\n",
            "string awal3 = 0\n",
            "string awal4 = \n",
            "\n",
            "tipe data boolean1 = True\n",
            "tipe data boolean2 = True\n",
            "tipe data boolean3 = True\n",
            "tipe data boolean4 = False\n"
          ],
          "name": "stdout"
        }
      ]
    }
  ]
}