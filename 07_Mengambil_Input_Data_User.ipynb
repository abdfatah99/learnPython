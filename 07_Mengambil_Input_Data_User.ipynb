{
 "cells": [
  {
   "cell_type": "markdown",
   "metadata": {},
   "source": [
    "# User Input\n",
    "Sebuah program dapat berinteraksi dengan user untuk mendapatkan data atau menyediakan source informasi yang dibutuhkan oleh program. <br> \n",
    "Dalam bahasa python, user dapat menginputkan data (dari keyboard) kedalam program menggunakan fungsi :\n",
    "- input()\n",
    "- raw_input()\n",
    "<br> \n",
    "\n",
    "input() dapat menerima beberapa tipe seperti di bawah ini:\n",
    "\n",
    "+ input(string, parameter, variable, list, dll) \n",
    "\n",
    "    + catatan penting : data yang dimasukan oleh input bertipe <b>String<br> \n",
    "    "
   ]
  },
  {
   "cell_type": "code",
   "execution_count": 1,
   "metadata": {
    "scrolled": true
   },
   "outputs": [
    {
     "name": "stdout",
     "output_type": "stream",
     "text": [
      "masukan data:15\n",
      "data = 15 ,type = <class 'str'>\n"
     ]
    }
   ],
   "source": [
    "data = input(\"masukan data:\")\n",
    "print(\"data =\", data, \",type =\",type(data))"
   ]
  },
  {
   "cell_type": "markdown",
   "metadata": {},
   "source": [
    "Apabila kita ingin menginputkan data berupa tipe data lain, maka kita harus melakukan casting tipe data pada saat penginputan data.<br>\n",
    "<p> nama_variable = tipe_data_yg_diinginkan( input() )\n",
    "    "
   ]
  },
  {
   "cell_type": "code",
   "execution_count": 2,
   "metadata": {},
   "outputs": [
    {
     "name": "stdout",
     "output_type": "stream",
     "text": [
      "masukan data int:15\n",
      "data int = 15 ,type <class 'int'>\n"
     ]
    }
   ],
   "source": [
    "#tipe data integer\n",
    "data_int = int(input(\"masukan data int:\"))\n",
    "print(\"data int =\", data_int, \",type\", type(data_int))"
   ]
  },
  {
   "cell_type": "code",
   "execution_count": 3,
   "metadata": {},
   "outputs": [
    {
     "name": "stdout",
     "output_type": "stream",
     "text": [
      "masukan angka : 15\n",
      "data float =  15.0 <class 'float'>\n"
     ]
    }
   ],
   "source": [
    "#tipe data float\n",
    "data_float = float(input(\"masukan angka : \"))\n",
    "print(\"data float = \", data_float, type(data_float))"
   ]
  },
  {
   "cell_type": "markdown",
   "metadata": {},
   "source": [
    "Tipe data boolean memiliki karakteristik yang unik guna mendapatkan value true/false"
   ]
  },
  {
   "cell_type": "code",
   "execution_count": 4,
   "metadata": {},
   "outputs": [
    {
     "name": "stdout",
     "output_type": "stream",
     "text": [
      "masukan nilai boolean = 1\n",
      "masukan nilai boolean2 = 0\n",
      "boolean =  True <class 'bool'>\n",
      "boolean2 =  True <class 'bool'>\n"
     ]
    }
   ],
   "source": [
    "#tipe data boolean \n",
    "biner = bool(input(\"masukan nilai boolean = \"))\n",
    "biner2 = bool(input(\"masukan nilai boolean2 = \"))\n",
    "\n",
    "print(\"boolean = \", biner, type(biner))\n",
    "print(\"boolean2 = \", biner, type(biner2))"
   ]
  },
  {
   "cell_type": "markdown",
   "metadata": {},
   "source": [
    "bisa dilihat pada program colom diatas, meskipun kita menuliskan 0 (False) pada boolean2 akan tetapi hasilnya tetap True. Untuk dapat membaca nilai boolean maka kita harus mengcasting data tersebut menjadi integer terlebih dahulu kemudian dirubah kembali menjadi boolean\n",
    "+ string -> int -> boolean "
   ]
  },
  {
   "cell_type": "code",
   "execution_count": 5,
   "metadata": {},
   "outputs": [
    {
     "name": "stdout",
     "output_type": "stream",
     "text": [
      "masukan nilai boolean = 1\n",
      "masukan nilai boolean2 = 0\n",
      "nilai boolean = True <class 'bool'>\n",
      "nilai boolean2 = False <class 'bool'>\n"
     ]
    }
   ],
   "source": [
    "#tipe data boolean\n",
    "boolean = bool(int(input(\"masukan nilai boolean = \")))\n",
    "boolean2 = bool(int(input(\"masukan nilai boolean2 = \")))\n",
    "\n",
    "print(\"nilai boolean =\", boolean, type(boolean))\n",
    "print(\"nilai boolean2 =\", boolean2, type(boolean2))"
   ]
  }
 ],
 "metadata": {
  "kernelspec": {
   "display_name": "Python 3",
   "language": "python",
   "name": "python3"
  },
  "language_info": {
   "codemirror_mode": {
    "name": "ipython",
    "version": 3
   },
   "file_extension": ".py",
   "mimetype": "text/x-python",
   "name": "python",
   "nbconvert_exporter": "python",
   "pygments_lexer": "ipython3",
   "version": "3.8.3"
  }
 },
 "nbformat": 4,
 "nbformat_minor": 4
}
