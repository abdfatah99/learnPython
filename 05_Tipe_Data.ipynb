{
  "nbformat": 4,
  "nbformat_minor": 0,
  "metadata": {
    "kernelspec": {
      "display_name": "Python 3",
      "language": "python",
      "name": "python3"
    },
    "language_info": {
      "codemirror_mode": {
        "name": "ipython",
        "version": 3
      },
      "file_extension": ".py",
      "mimetype": "text/x-python",
      "name": "python",
      "nbconvert_exporter": "python",
      "pygments_lexer": "ipython3",
      "version": "3.8.3"
    },
    "colab": {
      "name": "05 - Tipe Data.ipynb",
      "provenance": [],
      "include_colab_link": true
    }
  },
  "cells": [
    {
      "cell_type": "markdown",
      "metadata": {
        "id": "view-in-github",
        "colab_type": "text"
      },
      "source": [
        "<a href=\"https://colab.research.google.com/github/abdulfatahhamidah/learnPython/blob/master/05_Tipe_Data.ipynb\" target=\"_parent\"><img src=\"https://colab.research.google.com/assets/colab-badge.svg\" alt=\"Open In Colab\"/></a>"
      ]
    },
    {
      "cell_type": "markdown",
      "metadata": {
        "id": "ZRhJtx9yrTvQ"
      },
      "source": [
        "# Tipe Data Dasar"
      ]
    },
    {
      "cell_type": "markdown",
      "metadata": {
        "id": "R9hPoRbmrTvW"
      },
      "source": [
        "Integer (angka satuan)\n",
        "+ berisi bilangan bulat tanpa koma"
      ]
    },
    {
      "cell_type": "code",
      "metadata": {
        "id": "swwNw56_rTvb",
        "outputId": "76cef1bd-5355-45b6-8aef-00211200a896"
      },
      "source": [
        "data_integer = 1\n",
        "print(\"data :\", data_integer)\n",
        "print(\"- bertipe :\", type(data_integer))"
      ],
      "execution_count": null,
      "outputs": [
        {
          "output_type": "stream",
          "text": [
            "data : 1\n",
            "- bertipe : <class 'int'>\n"
          ],
          "name": "stdout"
        }
      ]
    },
    {
      "cell_type": "markdown",
      "metadata": {
        "id": "5H7cJrlxrTv1"
      },
      "source": [
        "Float (angka dengan koma)\n",
        "+ berisi bilangan desimal"
      ]
    },
    {
      "cell_type": "code",
      "metadata": {
        "id": "_-x5PDPyrTv4",
        "outputId": "f192252c-e58b-4ab1-db7b-078a49f33207"
      },
      "source": [
        "data_float = 1.5\n",
        "print(\"data :\", data_float)\n",
        "print(\"- bertipe :\", type(data_float))"
      ],
      "execution_count": null,
      "outputs": [
        {
          "output_type": "stream",
          "text": [
            "data : 1.5\n",
            "- bertipe : <class 'float'>\n"
          ],
          "name": "stdout"
        }
      ]
    },
    {
      "cell_type": "markdown",
      "metadata": {
        "id": "0LeHePhUrTwR"
      },
      "source": [
        "String (kumpulan karakter)\n",
        "+ ditandai dengan \" atau '\n",
        "+ isi dari karakter tersebut dapat berupa angka dan huruf\n"
      ]
    },
    {
      "cell_type": "code",
      "metadata": {
        "id": "awPGKPbIrTwV",
        "outputId": "9cc9d3ae-b0d7-401b-ad1b-ff2dbc90ee53"
      },
      "source": [
        "data_string =\"ucup\"\n",
        "print(\"data :\", data_string)\n",
        "print(\"- bertipe :\", type(data_string))"
      ],
      "execution_count": null,
      "outputs": [
        {
          "output_type": "stream",
          "text": [
            "data : ucup\n",
            "- bertipe : <class 'str'>\n"
          ],
          "name": "stdout"
        }
      ]
    },
    {
      "cell_type": "markdown",
      "metadata": {
        "id": "mmG-i51LrTwk"
      },
      "source": [
        "+ apabila string berupa angka, tidak dapat melakukan kalkulasi terhadap angka tersebut \n",
        "+ contoh: \n",
        "    + \"aku\" + \"dewasa\" menghasilkan output 'aku dewasa', kata aku disatukan dengan kata dewasa\n",
        "    + \"10\" + \"5\" menghasilkan output 105, artinya adalah angka 10 disatukan dengan angka 5"
      ]
    },
    {
      "cell_type": "code",
      "metadata": {
        "id": "ryU3waTHrTwm",
        "outputId": "887c7f8b-684b-4bac-bda3-f38c49ace66e"
      },
      "source": [
        "#string berupa kata\n",
        "data_string_kata = \"aku\"\n",
        "data_string_kata2 = \"dewasa\"\n",
        "print(\"string berupa kata =\",  data_string_kata + data_string_kata2)\n",
        "\n",
        "#string berupa angka\n",
        "data_string_angka = \"10\"\n",
        "data_string_angka2 = \"5\"\n",
        "print(\"string berupa angka =\", data_string_angka + data_string_angka2)"
      ],
      "execution_count": null,
      "outputs": [
        {
          "output_type": "stream",
          "text": [
            "string berupa kata = akudewasa\n",
            "string berupa angka = 105\n"
          ],
          "name": "stdout"
        }
      ]
    },
    {
      "cell_type": "markdown",
      "metadata": {
        "id": "-5MMH5k3rTw6"
      },
      "source": [
        "Biner (True/False)"
      ]
    },
    {
      "cell_type": "code",
      "metadata": {
        "id": "l8b87Gh5rTw8",
        "outputId": "89075cec-2391-43b6-d442-01715352cecb"
      },
      "source": [
        "data_bool = False\n",
        "print(\"data :\", data_bool, type(data_bool))"
      ],
      "execution_count": null,
      "outputs": [
        {
          "output_type": "stream",
          "text": [
            "data : False <class 'bool'>\n"
          ],
          "name": "stdout"
        }
      ]
    },
    {
      "cell_type": "markdown",
      "metadata": {
        "id": "51Yn9IqwrTxM"
      },
      "source": [
        "Tipe Data Khusus\n",
        "+ tipe data kompleks\n",
        "+ tipe data dari bahasa C\n",
        "    + apabila kita ingin menggunakan tipe data dari bahasa c, maka kita perlu untuk mengimport package yang diperlukan, eg. ctypes"
      ]
    },
    {
      "cell_type": "code",
      "metadata": {
        "id": "whZ9nOAJrTxP",
        "outputId": "dca6d1f0-f9f9-4564-db5c-d5900e76bd83"
      },
      "source": [
        "# tipe data kompleks \n",
        "data_complex = complex(5, 6)\n",
        "print(\"data :\", data_complex, type(data_complex))"
      ],
      "execution_count": null,
      "outputs": [
        {
          "output_type": "stream",
          "text": [
            "data : (5+6j) <class 'complex'>\n"
          ],
          "name": "stdout"
        }
      ]
    },
    {
      "cell_type": "code",
      "metadata": {
        "id": "PiOEjaXmrTxn",
        "outputId": "992fe01f-9be5-416e-afc7-8aca260ef024"
      },
      "source": [
        "# tipe data dari bahasa C\n",
        "from ctypes import c_double\n",
        "\n",
        "data_c_double = c_double(10.5)\n",
        "print(\"data :\", data_c_double, type(data_c_double))"
      ],
      "execution_count": null,
      "outputs": [
        {
          "output_type": "stream",
          "text": [
            "data : c_double(10.5) <class 'ctypes.c_double'>\n"
          ],
          "name": "stdout"
        }
      ]
    }
  ]
}