{
  "nbformat": 4,
  "nbformat_minor": 0,
  "metadata": {
    "kernelspec": {
      "display_name": "Python 3",
      "language": "python",
      "name": "python3"
    },
    "language_info": {
      "codemirror_mode": {
        "name": "ipython",
        "version": 3
      },
      "file_extension": ".py",
      "mimetype": "text/x-python",
      "name": "python",
      "nbconvert_exporter": "python",
      "pygments_lexer": "ipython3",
      "version": "3.8.3"
    },
    "colab": {
      "name": "04_Variable.ipynb",
      "provenance": [],
      "include_colab_link": true
    }
  },
  "cells": [
    {
      "cell_type": "markdown",
      "metadata": {
        "id": "view-in-github",
        "colab_type": "text"
      },
      "source": [
        "<a href=\"https://colab.research.google.com/github/abdulfatahhamidah/learnPython/blob/master/04_Variable.ipynb\" target=\"_parent\"><img src=\"https://colab.research.google.com/assets/colab-badge.svg\" alt=\"Open In Colab\"/></a>"
      ]
    },
    {
      "cell_type": "markdown",
      "metadata": {
        "id": "YKFHFEWEWjRZ"
      },
      "source": [
        "# Variable \n",
        "+ variable adalah tempat untuk menyimpan sebuah nilai yang akan digunakan\n",
        "+ konsep ini sama seperti varible pada matematika<br>\n",
        "contoh: <br>\n",
        "x = 10 <br>\n",
        "y = x + 4 <br>\n",
        "maka nilai y = 10 + 4 <br>= 14 \n",
        "<br>\n",
        "keterangan: <br>\n",
        "(x,y) adalah variable <br>\n",
        "( = ) adalah assignment <br>\n",
        "(10) adalah value/nilai\n",
        "<br>\n",
        "\n",
        "Python tidak memerlukan deklarasi tipe data seperti pada bahasa pemrograman pada umumnya, secara otomatis python akan langsung mengklasifikasikan data yang kita simpan. Sistem ini disebut Dinamic typing (lebih tepatnya Duck Typing).<br>\n",
        "Note : \n",
        "+ contoh deklarasi \n",
        "    - int a = 10\n",
        "+ Duck typing adalah sebuah aplikasi pemrograman yang menjalankan sebuah skema duck test (apabila sesuatu berjalan seperti seekor bebek, kemudian bersuara seperti bebek, maka dapat dipastikan hal itu adalah bebek) untuk mendeteksi sebuah object yang akan digunakan dengan tujuan tertentu."
      ]
    },
    {
      "cell_type": "code",
      "metadata": {
        "id": "a5R9GhDTWjRd",
        "outputId": "593486b7-e20d-4149-aeab-9a23764bbccf"
      },
      "source": [
        "a = 10 \n",
        "x = 5\n",
        "panjang = 1000\n",
        "\n",
        "print(\"Nilai a = \", a)\n",
        "print(\"nilai x = \", x)\n",
        "print(\"nilai panjang = \", panjang)\n"
      ],
      "execution_count": null,
      "outputs": [
        {
          "output_type": "stream",
          "text": [
            "Nilai a =  10\n",
            "nilai x =  5\n",
            "nilai panjang =  1000\n"
          ],
          "name": "stdout"
        }
      ]
    },
    {
      "cell_type": "markdown",
      "metadata": {
        "id": "h59hjfzfWjRy"
      },
      "source": [
        "Penamaan Variable\n",
        "+ tidak boleh menggunakan spasi"
      ]
    },
    {
      "cell_type": "code",
      "metadata": {
        "id": "wlgw-094WjR0",
        "outputId": "0451f520-17e8-4550-84f4-710ee0d65455"
      },
      "source": [
        "nilai y = 10\n",
        "print (nilai y)"
      ],
      "execution_count": null,
      "outputs": [
        {
          "output_type": "error",
          "ename": "SyntaxError",
          "evalue": "invalid syntax (<ipython-input-2-9fab881cbd41>, line 1)",
          "traceback": [
            "\u001b[1;36m  File \u001b[1;32m\"<ipython-input-2-9fab881cbd41>\"\u001b[1;36m, line \u001b[1;32m1\u001b[0m\n\u001b[1;33m    nilai y = 10\u001b[0m\n\u001b[1;37m          ^\u001b[0m\n\u001b[1;31mSyntaxError\u001b[0m\u001b[1;31m:\u001b[0m invalid syntax\n"
          ]
        }
      ]
    },
    {
      "cell_type": "code",
      "metadata": {
        "id": "67_JAUFGWjSB",
        "outputId": "8c17bb17-f4f1-48c5-b289-1dc6d2c0682f"
      },
      "source": [
        "nilai_y = 10\n",
        "print(nilai_y)"
      ],
      "execution_count": null,
      "outputs": [
        {
          "output_type": "stream",
          "text": [
            "10\n"
          ],
          "name": "stdout"
        }
      ]
    },
    {
      "cell_type": "markdown",
      "metadata": {
        "id": "I3wQOsJ2WjSP"
      },
      "source": [
        "+ karakter pertama harus berupa huruf atau garis bawah/underscore _\n",
        "    + apabila diawali dengan angka maka akan error\n",
        "+ karakter selanjutnya berupa huruf, underscore _ atau angka\n",
        "+ variable bersifat case sensitif, huruf kecil dan huruf besar beda\n",
        "+ apabila terdapat variable yang memiliki dua suku kata atau lebih, maka gunakan sistem seperti dibawah ini (direkomendasikan):\n",
        "    + Camel Case (myGreatVariableName)\n",
        "    + Snake Case (my_great_variable_name) \n",
        "    + Slash Case (my/great/variable/name)\n",
        "    + Pascal Case (MyGreatVariableName)\n",
        "    + Cobra Case (My_Great_Variable_Name)\n",
        "    + dll <br>\n",
        "    Camel case dan snake case adalah metode penulisan yang paling banyak digunakan\n"
      ]
    },
    {
      "cell_type": "markdown",
      "metadata": {
        "id": "XbMihDe_WjSR"
      },
      "source": [
        "Pemanggilan kedua sebuah variable, dan merubahnya ke variable terbaru (update)"
      ]
    },
    {
      "cell_type": "code",
      "metadata": {
        "id": "Ozbb6MX7WjSU",
        "outputId": "a327b65b-fd6c-4921-e8ff-4de1c52efa8e"
      },
      "source": [
        "print(\"nilai a =\", a)"
      ],
      "execution_count": null,
      "outputs": [
        {
          "output_type": "stream",
          "text": [
            "nilai a = 10\n"
          ],
          "name": "stdout"
        }
      ]
    },
    {
      "cell_type": "code",
      "metadata": {
        "id": "iQiy2n3gWjSi",
        "outputId": "adedad30-8d67-438f-f707-1c7ad202ca6f"
      },
      "source": [
        "a = 7 \n",
        "print(\"nilai a (update) =\", a)"
      ],
      "execution_count": null,
      "outputs": [
        {
          "output_type": "stream",
          "text": [
            "nilai a (update) = 7\n"
          ],
          "name": "stdout"
        }
      ]
    },
    {
      "cell_type": "markdown",
      "metadata": {
        "id": "mjL0oJzgWjSw"
      },
      "source": [
        "Assignment indirect, membuat sebuah variable baru dengan menggunakan nilai dari variable yang sudah ada."
      ]
    },
    {
      "cell_type": "code",
      "metadata": {
        "id": "zqvYdtNxWjSy",
        "outputId": "b3b59a82-9dac-47c1-ce75-a3a9226a980b"
      },
      "source": [
        "b = a\n",
        "print(\"nilai b =\", b)"
      ],
      "execution_count": null,
      "outputs": [
        {
          "output_type": "stream",
          "text": [
            "nilai b = 7\n"
          ],
          "name": "stdout"
        }
      ]
    }
  ]
}