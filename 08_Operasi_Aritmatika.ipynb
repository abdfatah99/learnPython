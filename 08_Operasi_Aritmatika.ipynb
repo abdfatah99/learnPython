{
  "nbformat": 4,
  "nbformat_minor": 0,
  "metadata": {
    "kernelspec": {
      "display_name": "Python 3",
      "language": "python",
      "name": "python3"
    },
    "language_info": {
      "codemirror_mode": {
        "name": "ipython",
        "version": 3
      },
      "file_extension": ".py",
      "mimetype": "text/x-python",
      "name": "python",
      "nbconvert_exporter": "python",
      "pygments_lexer": "ipython3",
      "version": "3.8.5-final"
    },
    "colab": {
      "name": "08_Operasi_Aritmatika.ipynb",
      "provenance": [],
      "include_colab_link": true
    }
  },
  "cells": [
    {
      "cell_type": "markdown",
      "metadata": {
        "id": "view-in-github",
        "colab_type": "text"
      },
      "source": [
        "<a href=\"https://colab.research.google.com/github/abdulfatahhamidah/learnPython/blob/master/08_Operasi_Aritmatika.ipynb\" target=\"_parent\"><img src=\"https://colab.research.google.com/assets/colab-badge.svg\" alt=\"Open In Colab\"/></a>"
      ]
    },
    {
      "cell_type": "markdown",
      "metadata": {
        "id": "HNCAVObnYOq4"
      },
      "source": [
        "# Operasi Aritmatika\n",
        "+ operasi operasi dasar pada matematika yang bisa dilakukan oleh python "
      ]
    },
    {
      "cell_type": "code",
      "metadata": {
        "id": "vol8BbsyYOq8",
        "outputId": "43f44bfd-343a-4189-ce38-bbc8d11ea235"
      },
      "source": [
        "a = 10\n",
        "b = 3\n",
        "print(\"a =\", a, type(a))\n",
        "print(\"b =\", b, type(b), \"\\n\")"
      ],
      "execution_count": null,
      "outputs": [
        {
          "output_type": "stream",
          "text": [
            "a = 10 <class 'int'>\n",
            "b = 3 <class 'int'> \n",
            "\n"
          ],
          "name": "stdout"
        }
      ]
    },
    {
      "cell_type": "markdown",
      "metadata": {
        "id": "wlM3mWrJYOrR"
      },
      "source": [
        "Operasi tambah + \n"
      ]
    },
    {
      "cell_type": "code",
      "metadata": {
        "id": "BFyb9lRfYOrV",
        "outputId": "ed2b015c-40bf-42f2-cf5a-9199ab77faf5"
      },
      "source": [
        "# operasi tambah +\n",
        "hasil = a + b\n",
        "print(a, '+', b, '=', hasil)"
      ],
      "execution_count": null,
      "outputs": [
        {
          "output_type": "stream",
          "text": [
            "10 + 3 = 13\n"
          ],
          "name": "stdout"
        }
      ]
    },
    {
      "cell_type": "markdown",
      "metadata": {
        "id": "oREYVeuaYOrj"
      },
      "source": [
        "Operasi Pengurangan -"
      ]
    },
    {
      "cell_type": "code",
      "metadata": {
        "id": "YfQQJCR2YOro",
        "outputId": "7acf416c-14b2-4e1b-d5ed-c653de36bbfe"
      },
      "source": [
        "# operasi Pengurangan -\n",
        "hasil = a - b\n",
        "print(a, '-', b, '=', hasil)"
      ],
      "execution_count": null,
      "outputs": [
        {
          "output_type": "stream",
          "text": [
            "10 - 3 = 7\n"
          ],
          "name": "stdout"
        }
      ]
    },
    {
      "cell_type": "markdown",
      "metadata": {
        "id": "qoDOEPzUYOr2"
      },
      "source": [
        "Operasi Perkalian *"
      ]
    },
    {
      "cell_type": "code",
      "metadata": {
        "id": "vwoScLdwYOr5",
        "outputId": "6d3ee496-35d9-4621-f6a1-92f1c64123fb"
      },
      "source": [
        "# operasi Perkalian *\n",
        "hasil = a * b\n",
        "print(a, '*', b, '=', hasil)"
      ],
      "execution_count": null,
      "outputs": [
        {
          "output_type": "stream",
          "text": [
            "10 * 3 = 30\n"
          ],
          "name": "stdout"
        }
      ]
    },
    {
      "cell_type": "markdown",
      "metadata": {
        "id": "fXQUQ9zaYOsK"
      },
      "source": [
        "Operasi pembagian /\n",
        "+ Pada operasi pembagian, hasil secara otomatis akan langsung berubah menjadi float apabila kalkulasinya menghasilkan koma"
      ]
    },
    {
      "cell_type": "code",
      "metadata": {
        "id": "dTfIR3o7YOsN",
        "outputId": "1afa02da-cb2c-49a8-825e-aff48f7fb5fc"
      },
      "source": [
        "# operasi Pembagian /\n",
        "hasil = a / b\n",
        "print(a, '/', b, '=', hasil, type(hasil))"
      ],
      "execution_count": null,
      "outputs": [
        {
          "output_type": "stream",
          "text": [
            "10 / 3 = 3.3333333333333335 <class 'float'>\n"
          ],
          "name": "stdout"
        }
      ]
    },
    {
      "cell_type": "markdown",
      "metadata": {
        "id": "BlN5fXN0YOsa"
      },
      "source": [
        "Operasi Eksponen (pangkat) **"
      ]
    },
    {
      "cell_type": "code",
      "metadata": {
        "id": "RTVeX66gYOsc",
        "outputId": "b7168614-66c7-4642-ae82-c76f6ae4ec0e"
      },
      "source": [
        "# operasi eksponen (pangkat) **\n",
        "hasil = a ** b\n",
        "print(a, \"**\", b, \"=\", hasil)"
      ],
      "execution_count": null,
      "outputs": [
        {
          "output_type": "stream",
          "text": [
            "10 ** 3 = 1000\n"
          ],
          "name": "stdout"
        }
      ]
    },
    {
      "cell_type": "markdown",
      "metadata": {
        "id": "C9h3oyh5YOsu"
      },
      "source": [
        "Operasi Modulus (sisa pembagian)"
      ]
    },
    {
      "cell_type": "code",
      "metadata": {
        "id": "62MzFucNYOsy",
        "outputId": "7992ccef-0383-47bd-91f2-aa2b7875703a"
      },
      "source": [
        "# modulus (sisa pembagian) %\n",
        "hasil = a % b\n",
        "print(a, \"%\", b, \"=\", hasil)"
      ],
      "execution_count": null,
      "outputs": [
        {
          "output_type": "stream",
          "text": [
            "10 % 3 = 1\n"
          ],
          "name": "stdout"
        }
      ]
    },
    {
      "cell_type": "markdown",
      "metadata": {
        "id": "F1mOr1FiYOs-"
      },
      "source": [
        "Operasi floor dicision // \n",
        "+ pengambilan angka paling depan\n",
        "+ secara default, apabila pembagian menghasilkan koma makan tipe data secara otomatis akan berubah menjadi float. Namun hasil dari floor decision tetap integer (int // int)"
      ]
    },
    {
      "cell_type": "code",
      "metadata": {
        "id": "PIcBk55JYOtB",
        "outputId": "f1eb2974-aa47-4694-8485-58a1f7f0b099"
      },
      "source": [
        "c = 24\n",
        "d = 5\n",
        "hasil = c // d\n",
        "print(c, '//', d, '=', hasil, \", hasil asli = 4.8, tipe data (hasil) =\", type(hasil))"
      ],
      "execution_count": null,
      "outputs": [
        {
          "output_type": "stream",
          "text": [
            "24 // 5 = 4 , hasil asli = 4.8, tipe data (hasil) = <class 'int'>\n"
          ],
          "name": "stdout"
        }
      ]
    },
    {
      "cell_type": "markdown",
      "metadata": {
        "id": "E5WOQlbeYOtO"
      },
      "source": [
        "Prioritas Operasi \n",
        "+ Urutan Prioritas Operasi\n",
        "    + 1. ()\n",
        "    + 2. eksponen \n",
        "    + 3. perkalian, pembagian dan % // \n",
        "    + 4. penjumlahan dan pengurangan "
      ]
    },
    {
      "cell_type": "code",
      "metadata": {
        "id": "1y51U-7oYOtR",
        "outputId": "ca01dc23-8e6a-432b-c0a0-758fc6adcda3"
      },
      "source": [
        "x = 3\n",
        "y = 2\n",
        "z = 4\n",
        "hasil = x ** y * z + x / y - y % z // x\n",
        "print(x, '**', y, '*', z, '+', x, '/', y, '-', y, '%', z, '//', x, '=', hasil)\n",
        "\n",
        "hasil = x + y * z\n",
        "print(x, '+', y, '*', z, \"=\", hasil)\n",
        "\n",
        "hasil = (x + y) * z\n",
        "print('(', x, '+', y, ')', '*', z, \"=\", hasil)"
      ],
      "execution_count": null,
      "outputs": [
        {
          "output_type": "stream",
          "text": [
            "3 ** 2 * 4 + 3 / 2 - 2 % 4 // 3 = 37.5\n",
            "3 + 2 * 4 = 11\n",
            "( 3 + 2 ) * 4 = 20\n"
          ],
          "name": "stdout"
        }
      ]
    }
  ]
}