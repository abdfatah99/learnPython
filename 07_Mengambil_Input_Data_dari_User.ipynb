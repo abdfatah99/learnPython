{
  "nbformat": 4,
  "nbformat_minor": 0,
  "metadata": {
    "kernelspec": {
      "display_name": "Python 3",
      "language": "python",
      "name": "python3"
    },
    "language_info": {
      "codemirror_mode": {
        "name": "ipython",
        "version": 3
      },
      "file_extension": ".py",
      "mimetype": "text/x-python",
      "name": "python",
      "nbconvert_exporter": "python",
      "pygments_lexer": "ipython3",
      "version": "3.8.3"
    },
    "colab": {
      "name": "07_Mengambil_Input_Data_dari_User.ipynb",
      "provenance": [],
      "include_colab_link": true
    }
  },
  "cells": [
    {
      "cell_type": "markdown",
      "metadata": {
        "id": "view-in-github",
        "colab_type": "text"
      },
      "source": [
        "<a href=\"https://colab.research.google.com/github/abdulfatahhamidah/learnPython/blob/master/07_Mengambil_Input_Data_dari_User.ipynb\" target=\"_parent\"><img src=\"https://colab.research.google.com/assets/colab-badge.svg\" alt=\"Open In Colab\"/></a>"
      ]
    },
    {
      "cell_type": "markdown",
      "metadata": {
        "id": "WP6yxaLqG2Wh"
      },
      "source": [
        "# User Input\n",
        "Sebuah program dapat berinteraksi dengan user untuk mendapatkan data atau menyediakan source informasi yang dibutuhkan oleh program. <br> \n",
        "Dalam bahasa python, user dapat menginputkan data (dari keyboard) kedalam program menggunakan fungsi :\n",
        "- input()\n",
        "- raw_input()\n",
        "<br> \n",
        "\n",
        "input() dapat menerima beberapa tipe seperti di bawah ini:\n",
        "\n",
        "+ input(string, parameter, variable, list, dll) \n",
        "\n",
        "    + catatan penting : data yang dimasukan oleh input bertipe <b>String<br> \n",
        "    "
      ]
    },
    {
      "cell_type": "code",
      "metadata": {
        "scrolled": true,
        "id": "qI5MEpygG2Wi",
        "outputId": "4e439946-5196-434e-c6d3-ef8a5554bcf7"
      },
      "source": [
        "data = input(\"masukan data:\")\n",
        "print(\"data =\", data, \",type =\",type(data))"
      ],
      "execution_count": null,
      "outputs": [
        {
          "output_type": "stream",
          "text": [
            "masukan data:15\n",
            "data = 15 ,type = <class 'str'>\n"
          ],
          "name": "stdout"
        }
      ]
    },
    {
      "cell_type": "markdown",
      "metadata": {
        "id": "mJzFJgw-G2Ww"
      },
      "source": [
        "Apabila kita ingin menginputkan data berupa tipe data lain, maka kita harus melakukan casting tipe data pada saat penginputan data.<br>\n",
        "<p> nama_variable = tipe_data_yg_diinginkan( input() )\n",
        "    "
      ]
    },
    {
      "cell_type": "code",
      "metadata": {
        "id": "yRu-7LL5G2Wx",
        "outputId": "863f7344-ce4e-4d90-a3e4-1937d4394a4d"
      },
      "source": [
        "#tipe data integer\n",
        "data_int = int(input(\"masukan data int:\"))\n",
        "print(\"data int =\", data_int, \",type\", type(data_int))"
      ],
      "execution_count": null,
      "outputs": [
        {
          "output_type": "stream",
          "text": [
            "masukan data int:15\n",
            "data int = 15 ,type <class 'int'>\n"
          ],
          "name": "stdout"
        }
      ]
    },
    {
      "cell_type": "code",
      "metadata": {
        "id": "XWdXEpamG2XE",
        "outputId": "cb5d0bf9-1da6-4eaf-9eb0-81555fca3a72"
      },
      "source": [
        "#tipe data float\n",
        "data_float = float(input(\"masukan angka : \"))\n",
        "print(\"data float = \", data_float, type(data_float))"
      ],
      "execution_count": null,
      "outputs": [
        {
          "output_type": "stream",
          "text": [
            "masukan angka : 15\n",
            "data float =  15.0 <class 'float'>\n"
          ],
          "name": "stdout"
        }
      ]
    },
    {
      "cell_type": "markdown",
      "metadata": {
        "id": "IrYzmjvpG2X1"
      },
      "source": [
        "Tipe data boolean memiliki karakteristik yang unik guna mendapatkan value true/false"
      ]
    },
    {
      "cell_type": "code",
      "metadata": {
        "id": "5MEqWh19G2X4",
        "outputId": "d01afd14-7e4a-4818-8b8b-7436de7ff1fa"
      },
      "source": [
        "#tipe data boolean \n",
        "biner = bool(input(\"masukan nilai boolean = \"))\n",
        "biner2 = bool(input(\"masukan nilai boolean2 = \"))\n",
        "\n",
        "print(\"boolean = \", biner, type(biner))\n",
        "print(\"boolean2 = \", biner, type(biner2))"
      ],
      "execution_count": null,
      "outputs": [
        {
          "output_type": "stream",
          "text": [
            "masukan nilai boolean = 1\n",
            "masukan nilai boolean2 = 0\n",
            "boolean =  True <class 'bool'>\n",
            "boolean2 =  True <class 'bool'>\n"
          ],
          "name": "stdout"
        }
      ]
    },
    {
      "cell_type": "markdown",
      "metadata": {
        "id": "inWiJZo3G2Yq"
      },
      "source": [
        "Pada program diatas, meskipun kita menuliskan 0 (False) pada boolean2 akan tetapi hasilnya tetap True. Untuk dapat membaca nilai boolean maka kita harus mengcasting data tersebut menjadi integer terlebih dahulu kemudian dirubah kembali menjadi boolean\n",
        "+ string -> int -> boolean "
      ]
    },
    {
      "cell_type": "code",
      "metadata": {
        "id": "hAk-Sh-fG2Y1",
        "outputId": "85a9c6ba-14a2-4db5-f9aa-9b996fcd71d2"
      },
      "source": [
        "#tipe data boolean\n",
        "boolean = bool(int(input(\"masukan nilai boolean = \")))\n",
        "boolean2 = bool(int(input(\"masukan nilai boolean2 = \")))\n",
        "\n",
        "print(\"nilai boolean =\", boolean, type(boolean))\n",
        "print(\"nilai boolean2 =\", boolean2, type(boolean2))"
      ],
      "execution_count": null,
      "outputs": [
        {
          "output_type": "stream",
          "text": [
            "masukan nilai boolean = 1\n",
            "masukan nilai boolean2 = 0\n",
            "nilai boolean = True <class 'bool'>\n",
            "nilai boolean2 = False <class 'bool'>\n"
          ],
          "name": "stdout"
        }
      ]
    }
  ]
}